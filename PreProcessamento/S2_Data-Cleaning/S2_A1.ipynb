{
 "cells": [
  {
   "metadata": {},
   "cell_type": "markdown",
   "source": "",
   "id": "e466830fe2279c01"
  },
  {
   "metadata": {
    "ExecuteTime": {
     "end_time": "2025-10-16T01:26:12.490996Z",
     "start_time": "2025-10-16T01:26:08.074789Z"
    }
   },
   "cell_type": "code",
   "source": [
    "import pandas as pd\n",
    "df = pd.read_csv(\"C:\\\\Users\\\\Nitro\\\\Desktop\\\\Inteligencia_Artificial\\\\PreProcessamento_Udemy\\\\sample_dataset.csv\")"
   ],
   "id": "3a326624eae03b39",
   "outputs": [],
   "execution_count": 3
  },
  {
   "metadata": {
    "ExecuteTime": {
     "end_time": "2025-10-16T01:27:35.782557Z",
     "start_time": "2025-10-16T01:27:35.774114Z"
    }
   },
   "cell_type": "code",
   "source": "df[\"area error\"]",
   "id": "1fd133db176d694d",
   "outputs": [
    {
     "data": {
      "text/plain": [
       "0        A\n",
       "1        A\n",
       "2        A\n",
       "3        A\n",
       "4      NaN\n",
       "      ... \n",
       "564      A\n",
       "565      A\n",
       "566      A\n",
       "567      A\n",
       "568      A\n",
       "Name: area error, Length: 569, dtype: object"
      ]
     },
     "execution_count": 6,
     "metadata": {},
     "output_type": "execute_result"
    }
   ],
   "execution_count": 6
  },
  {
   "metadata": {},
   "cell_type": "code",
   "outputs": [],
   "execution_count": null,
   "source": [
    "categorical_variables = df.select_dtypes(include=['object','category','bool']).columns # Captura colunas somente dos tipos listados\n",
    "numerical_variables = df.select_dtypes(exclude = ['object','category','bool']).columns # captura colunas somente dos tipos não listados"
   ],
   "id": "82a5b957058e8933"
  }
 ],
 "metadata": {
  "kernelspec": {
   "display_name": "Python 3",
   "language": "python",
   "name": "python3"
  },
  "language_info": {
   "codemirror_mode": {
    "name": "ipython",
    "version": 2
   },
   "file_extension": ".py",
   "mimetype": "text/x-python",
   "name": "python",
   "nbconvert_exporter": "python",
   "pygments_lexer": "ipython2",
   "version": "2.7.6"
  }
 },
 "nbformat": 4,
 "nbformat_minor": 5
}
