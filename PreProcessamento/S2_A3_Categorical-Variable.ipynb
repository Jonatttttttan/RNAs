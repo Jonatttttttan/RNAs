{
 "cells": [
  {
   "cell_type": "code",
   "id": "initial_id",
   "metadata": {
    "collapsed": true,
    "ExecuteTime": {
     "end_time": "2025-10-16T01:47:58.293860Z",
     "start_time": "2025-10-16T01:47:56.634235Z"
    }
   },
   "source": [
    "import pandas as pd\n",
    "from sklearn.impute import SimpleImputer\n",
    "df = pd.read_csv(\"C:\\\\Users\\\\Nitro\\\\Desktop\\\\Inteligencia_Artificial\\\\PreProcessamento_Udemy\\\\sample_dataset.csv\")"
   ],
   "outputs": [],
   "execution_count": 1
  },
  {
   "metadata": {
    "ExecuteTime": {
     "end_time": "2025-10-16T01:48:50.552199Z",
     "start_time": "2025-10-16T01:48:50.541996Z"
    }
   },
   "cell_type": "code",
   "source": "df['area error'].isnull().sum()",
   "id": "288f4a764fb898b5",
   "outputs": [
    {
     "data": {
      "text/plain": [
       "np.int64(75)"
      ]
     },
     "execution_count": 2,
     "metadata": {},
     "output_type": "execute_result"
    }
   ],
   "execution_count": 2
  },
  {
   "metadata": {
    "ExecuteTime": {
     "end_time": "2025-10-16T01:49:58.528665Z",
     "start_time": "2025-10-16T01:49:58.501673Z"
    }
   },
   "cell_type": "code",
   "source": "X = df[['area error']]",
   "id": "6df5c7411bfa6f40",
   "outputs": [],
   "execution_count": 3
  },
  {
   "metadata": {},
   "cell_type": "markdown",
   "source": "Cleaning using the most problable value",
   "id": "c4527fa16f5ad0d0"
  },
  {
   "metadata": {
    "ExecuteTime": {
     "end_time": "2025-10-16T01:53:14.553585Z",
     "start_time": "2025-10-16T01:53:14.542378Z"
    }
   },
   "cell_type": "code",
   "source": [
    "cleaner = SimpleImputer(strategy = 'most_frequent')\n",
    "cleaner.fit_transform(X)[0:5, :]"
   ],
   "id": "cd3c7099c894a4a2",
   "outputs": [
    {
     "data": {
      "text/plain": [
       "array([['A'],\n",
       "       ['A'],\n",
       "       ['A'],\n",
       "       ['A'],\n",
       "       ['A']], dtype=object)"
      ]
     },
     "execution_count": 6,
     "metadata": {},
     "output_type": "execute_result"
    }
   ],
   "execution_count": 6
  },
  {
   "metadata": {},
   "cell_type": "markdown",
   "source": "Cleaning using a new value",
   "id": "4da2f3ca409ac16b"
  },
  {
   "metadata": {
    "ExecuteTime": {
     "end_time": "2025-10-16T01:54:00.157478Z",
     "start_time": "2025-10-16T01:54:00.146856Z"
    }
   },
   "cell_type": "code",
   "source": [
    "cleaner = SimpleImputer(strategy = 'constant', fill_value = 'Undefined')\n",
    "cleaner.fit_transform(X)[:10, :]"
   ],
   "id": "40515640fc169315",
   "outputs": [
    {
     "data": {
      "text/plain": [
       "array([['A'],\n",
       "       ['A'],\n",
       "       ['A'],\n",
       "       ['A'],\n",
       "       ['Undefined'],\n",
       "       ['Undefined'],\n",
       "       ['Undefined'],\n",
       "       ['A'],\n",
       "       ['A'],\n",
       "       ['A']], dtype=object)"
      ]
     },
     "execution_count": 8,
     "metadata": {},
     "output_type": "execute_result"
    }
   ],
   "execution_count": 8
  }
 ],
 "metadata": {
  "kernelspec": {
   "display_name": "Python 3",
   "language": "python",
   "name": "python3"
  },
  "language_info": {
   "codemirror_mode": {
    "name": "ipython",
    "version": 2
   },
   "file_extension": ".py",
   "mimetype": "text/x-python",
   "name": "python",
   "nbconvert_exporter": "python",
   "pygments_lexer": "ipython2",
   "version": "2.7.6"
  }
 },
 "nbformat": 4,
 "nbformat_minor": 5
}
