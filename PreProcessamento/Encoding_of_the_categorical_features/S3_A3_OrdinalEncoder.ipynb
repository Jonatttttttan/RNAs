{
 "cells": [
  {
   "metadata": {
    "ExecuteTime": {
     "end_time": "2025-10-20T20:09:19.855818Z",
     "start_time": "2025-10-20T20:09:05.049602Z"
    }
   },
   "cell_type": "code",
   "source": "from sklearn.preprocessing import OrdinalEncoder",
   "id": "b63ffa7720042401",
   "outputs": [],
   "execution_count": 1
  },
  {
   "metadata": {
    "collapsed": true
   },
   "cell_type": "markdown",
   "source": "",
   "id": "bf349141cc32ba60"
  },
  {
   "metadata": {
    "ExecuteTime": {
     "end_time": "2025-10-20T20:09:45.408652Z",
     "start_time": "2025-10-20T20:09:45.403647Z"
    }
   },
   "cell_type": "code",
   "source": "X = [['High'],['Low'],['Low'],['Medium']]",
   "id": "27cd93bf330be304",
   "outputs": [],
   "execution_count": 2
  },
  {
   "metadata": {
    "ExecuteTime": {
     "end_time": "2025-10-20T20:10:42.538434Z",
     "start_time": "2025-10-20T20:10:42.528767Z"
    }
   },
   "cell_type": "code",
   "source": [
    "enc = OrdinalEncoder()\n",
    "enc.fit_transform(X)"
   ],
   "id": "a31be235be7a5c51",
   "outputs": [
    {
     "data": {
      "text/plain": [
       "array([[0.],\n",
       "       [1.],\n",
       "       [1.],\n",
       "       [2.]])"
      ]
     },
     "execution_count": 3,
     "metadata": {},
     "output_type": "execute_result"
    }
   ],
   "execution_count": 3
  },
  {
   "metadata": {},
   "cell_type": "markdown",
   "source": "We want",
   "id": "ea6a1d2fd919b72e"
  },
  {
   "metadata": {},
   "cell_type": "markdown",
   "source": "* Low ==> 0  |  * Medium ==> 1  |  High ==> 2",
   "id": "e662ebcebf21cfa6"
  },
  {
   "metadata": {},
   "cell_type": "code",
   "outputs": [],
   "execution_count": null,
   "source": "",
   "id": "a871d2e24283d698"
  },
  {
   "metadata": {
    "ExecuteTime": {
     "end_time": "2025-10-20T20:13:46.285544Z",
     "start_time": "2025-10-20T20:13:46.278309Z"
    }
   },
   "cell_type": "code",
   "source": [
    "enc = OrdinalEncoder(categories=[['Low','Medium','High']])\n",
    "enc.fit_transform(X)"
   ],
   "id": "794c9768c326e70b",
   "outputs": [
    {
     "data": {
      "text/plain": [
       "array([[2.],\n",
       "       [0.],\n",
       "       [0.],\n",
       "       [1.]])"
      ]
     },
     "execution_count": 5,
     "metadata": {},
     "output_type": "execute_result"
    }
   ],
   "execution_count": 5
  },
  {
   "metadata": {
    "ExecuteTime": {
     "end_time": "2025-10-20T20:15:53.713802Z",
     "start_time": "2025-10-20T20:15:53.708762Z"
    }
   },
   "cell_type": "code",
   "source": [
    "X = [['High','A'],['Low','C'], ['Low', 'B'], ['Medium','C']]\n",
    "X"
   ],
   "id": "d262f1bf6a63bce3",
   "outputs": [
    {
     "data": {
      "text/plain": [
       "[['High', 'A'], ['Low', 'C'], ['Low', 'B'], ['Medium', 'C']]"
      ]
     },
     "execution_count": 6,
     "metadata": {},
     "output_type": "execute_result"
    }
   ],
   "execution_count": 6
  },
  {
   "metadata": {
    "ExecuteTime": {
     "end_time": "2025-10-20T20:17:17.510507Z",
     "start_time": "2025-10-20T20:17:17.501608Z"
    }
   },
   "cell_type": "code",
   "source": [
    "enc = OrdinalEncoder(categories=[['Low','Medium','High'], ['A','B','C']])\n",
    "enc.fit_transform(X)"
   ],
   "id": "41a10940d0f0f3a4",
   "outputs": [
    {
     "data": {
      "text/plain": [
       "array([[2., 0.],\n",
       "       [0., 2.],\n",
       "       [0., 1.],\n",
       "       [1., 2.]])"
      ]
     },
     "execution_count": 7,
     "metadata": {},
     "output_type": "execute_result"
    }
   ],
   "execution_count": 7
  },
  {
   "metadata": {
    "ExecuteTime": {
     "end_time": "2025-10-20T20:21:14.525754Z",
     "start_time": "2025-10-20T20:21:14.519098Z"
    }
   },
   "cell_type": "code",
   "source": [
    "X = [['Under 18'], ['18-25'],['25-30'],['Over 30']]\n",
    "enc = OrdinalEncoder(categories=[['Under 18', '18-25', '25-30', 'Over 30']])\n",
    "enc.fit_transform(X)"
   ],
   "id": "cf13f3d44678e208",
   "outputs": [
    {
     "data": {
      "text/plain": [
       "array([[0.],\n",
       "       [1.],\n",
       "       [2.],\n",
       "       [3.]])"
      ]
     },
     "execution_count": 8,
     "metadata": {},
     "output_type": "execute_result"
    }
   ],
   "execution_count": 8
  }
 ],
 "metadata": {
  "kernelspec": {
   "display_name": "Python 3",
   "language": "python",
   "name": "python3"
  },
  "language_info": {
   "codemirror_mode": {
    "name": "ipython",
    "version": 2
   },
   "file_extension": ".py",
   "mimetype": "text/x-python",
   "name": "python",
   "nbconvert_exporter": "python",
   "pygments_lexer": "ipython2",
   "version": "2.7.6"
  }
 },
 "nbformat": 4,
 "nbformat_minor": 5
}
