{
 "cells": [
  {
   "cell_type": "code",
   "id": "initial_id",
   "metadata": {
    "collapsed": true,
    "ExecuteTime": {
     "end_time": "2025-10-20T21:11:41.491304Z",
     "start_time": "2025-10-20T21:11:39.981869Z"
    }
   },
   "source": "from sklearn.preprocessing import LabelEncoder",
   "outputs": [],
   "execution_count": 2
  },
  {
   "metadata": {
    "ExecuteTime": {
     "end_time": "2025-10-20T20:23:37.675205Z",
     "start_time": "2025-10-20T20:23:37.668967Z"
    }
   },
   "cell_type": "code",
   "source": [
    "y = ['A', 'B', 'B', 'C', 'D']\n",
    "enc = LabelEncoder()"
   ],
   "id": "5f021259f1cc093",
   "outputs": [],
   "execution_count": 2
  },
  {
   "metadata": {
    "ExecuteTime": {
     "end_time": "2025-10-20T20:23:51.330517Z",
     "start_time": "2025-10-20T20:23:51.315864Z"
    }
   },
   "cell_type": "code",
   "source": "enc.fit_transform(y)",
   "id": "efff4dd03c1ea002",
   "outputs": [
    {
     "data": {
      "text/plain": [
       "array([0, 1, 1, 2, 3])"
      ]
     },
     "execution_count": 3,
     "metadata": {},
     "output_type": "execute_result"
    }
   ],
   "execution_count": 3
  },
  {
   "metadata": {
    "ExecuteTime": {
     "end_time": "2025-10-20T21:11:34.367120Z",
     "start_time": "2025-10-20T21:11:34.127336Z"
    }
   },
   "cell_type": "code",
   "source": "enc.inverse_transform(enc.fit_transform(y))",
   "id": "e94bf2b12a846f91",
   "outputs": [
    {
     "ename": "NameError",
     "evalue": "name 'enc' is not defined",
     "output_type": "error",
     "traceback": [
      "\u001B[31m---------------------------------------------------------------------------\u001B[39m",
      "\u001B[31mNameError\u001B[39m                                 Traceback (most recent call last)",
      "\u001B[36mCell\u001B[39m\u001B[36m \u001B[39m\u001B[32mIn[1]\u001B[39m\u001B[32m, line 1\u001B[39m\n\u001B[32m----> \u001B[39m\u001B[32m1\u001B[39m \u001B[43menc\u001B[49m.inverse_transform(enc.fit_transform(y))\n",
      "\u001B[31mNameError\u001B[39m: name 'enc' is not defined"
     ]
    }
   ],
   "execution_count": 1
  }
 ],
 "metadata": {
  "kernelspec": {
   "display_name": "Python 3",
   "language": "python",
   "name": "python3"
  },
  "language_info": {
   "codemirror_mode": {
    "name": "ipython",
    "version": 2
   },
   "file_extension": ".py",
   "mimetype": "text/x-python",
   "name": "python",
   "nbconvert_exporter": "python",
   "pygments_lexer": "ipython2",
   "version": "2.7.6"
  }
 },
 "nbformat": 4,
 "nbformat_minor": 5
}
