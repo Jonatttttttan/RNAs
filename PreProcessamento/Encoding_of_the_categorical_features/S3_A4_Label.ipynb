{
 "cells": [
  {
   "cell_type": "code",
   "id": "initial_id",
   "metadata": {
    "collapsed": true,
    "ExecuteTime": {
     "end_time": "2025-10-20T20:23:11.686521Z",
     "start_time": "2025-10-20T20:23:10.138727Z"
    }
   },
   "source": "from sklearn.preprocessing import LabelEncoder",
   "outputs": [],
   "execution_count": 1
  },
  {
   "metadata": {
    "ExecuteTime": {
     "end_time": "2025-10-20T20:23:37.675205Z",
     "start_time": "2025-10-20T20:23:37.668967Z"
    }
   },
   "cell_type": "code",
   "source": [
    "y = ['A', 'B', 'B', 'C', 'D']\n",
    "enc = LabelEncoder()"
   ],
   "id": "5f021259f1cc093",
   "outputs": [],
   "execution_count": 2
  },
  {
   "metadata": {
    "ExecuteTime": {
     "end_time": "2025-10-20T20:23:51.330517Z",
     "start_time": "2025-10-20T20:23:51.315864Z"
    }
   },
   "cell_type": "code",
   "source": "enc.fit_transform(y)",
   "id": "efff4dd03c1ea002",
   "outputs": [
    {
     "data": {
      "text/plain": [
       "array([0, 1, 1, 2, 3])"
      ]
     },
     "execution_count": 3,
     "metadata": {},
     "output_type": "execute_result"
    }
   ],
   "execution_count": 3
  },
  {
   "metadata": {
    "ExecuteTime": {
     "end_time": "2025-10-20T21:06:16.408899Z",
     "start_time": "2025-10-20T21:06:16.398357Z"
    }
   },
   "cell_type": "code",
   "source": "enc.inverse_transform(enc.fit_transform(y))",
   "id": "e94bf2b12a846f91",
   "outputs": [
    {
     "data": {
      "text/plain": [
       "array(['A', 'B', 'B', 'C', 'D'], dtype='<U1')"
      ]
     },
     "execution_count": 5,
     "metadata": {},
     "output_type": "execute_result"
    }
   ],
   "execution_count": 5
  }
 ],
 "metadata": {
  "kernelspec": {
   "display_name": "Python 3",
   "language": "python",
   "name": "python3"
  },
  "language_info": {
   "codemirror_mode": {
    "name": "ipython",
    "version": 2
   },
   "file_extension": ".py",
   "mimetype": "text/x-python",
   "name": "python",
   "nbconvert_exporter": "python",
   "pygments_lexer": "ipython2",
   "version": "2.7.6"
  }
 },
 "nbformat": 4,
 "nbformat_minor": 5
}
