{
 "cells": [
  {
   "cell_type": "code",
   "id": "initial_id",
   "metadata": {
    "collapsed": true,
    "ExecuteTime": {
     "end_time": "2025-10-20T20:50:39.923291Z",
     "start_time": "2025-10-20T20:50:38.804731Z"
    }
   },
   "source": [
    "import numpy as np\n",
    "from sklearn.preprocessing import OneHotEncoder, OrdinalEncoder\n",
    "from sklearn.compose import ColumnTransformer\n"
   ],
   "outputs": [],
   "execution_count": 44
  },
  {
   "metadata": {
    "ExecuteTime": {
     "end_time": "2025-10-20T20:38:56.313734Z",
     "start_time": "2025-10-20T20:38:56.309845Z"
    }
   },
   "cell_type": "code",
   "source": "X = np.array([['X', 'High'], ['Y', 'Low'], ['Z', 'Medium'], ['X', 'Low']])",
   "id": "1246823a32195c37",
   "outputs": [],
   "execution_count": 23
  },
  {
   "metadata": {},
   "cell_type": "markdown",
   "source": "Ordenando com One Hot",
   "id": "ce3655ed5074b65e"
  },
  {
   "metadata": {
    "ExecuteTime": {
     "end_time": "2025-10-20T20:29:46.558296Z",
     "start_time": "2025-10-20T20:29:46.547024Z"
    }
   },
   "cell_type": "code",
   "source": [
    "enc = OneHotEncoder(sparse_output=False, categories = [['X', 'Y', 'Z'], ['Low','Medium','High']])\n",
    "enc.fit_transform(X)"
   ],
   "id": "24342cabda3e3b52",
   "outputs": [
    {
     "data": {
      "text/plain": [
       "array([[1., 0., 0., 0., 0., 1.],\n",
       "       [0., 1., 0., 1., 0., 0.],\n",
       "       [0., 0., 1., 0., 1., 0.],\n",
       "       [1., 0., 0., 1., 0., 0.]])"
      ]
     },
     "execution_count": 4,
     "metadata": {},
     "output_type": "execute_result"
    }
   ],
   "execution_count": 4
  },
  {
   "metadata": {},
   "cell_type": "markdown",
   "source": "Ordenando com One Hot e Ordinal",
   "id": "378e94c8b702dc21"
  },
  {
   "metadata": {
    "ExecuteTime": {
     "end_time": "2025-10-20T20:32:34.203374Z",
     "start_time": "2025-10-20T20:32:34.197981Z"
    }
   },
   "cell_type": "code",
   "source": [
    "enc = OneHotEncoder(sparse_output=False, categories = [['X','Y','Z']])\n",
    "enc2 = OrdinalEncoder(categories=[['Low','Medium','High']])"
   ],
   "id": "7fa93346ab230a46",
   "outputs": [],
   "execution_count": 5
  },
  {
   "metadata": {
    "ExecuteTime": {
     "end_time": "2025-10-20T21:04:18.693840Z",
     "start_time": "2025-10-20T21:04:18.687354Z"
    }
   },
   "cell_type": "code",
   "source": "X1 = enc.fit_transform(X[:,:1])\n",
   "id": "f5c0196657fdf8d2",
   "outputs": [],
   "execution_count": 54
  },
  {
   "metadata": {
    "ExecuteTime": {
     "end_time": "2025-10-20T20:39:01.921436Z",
     "start_time": "2025-10-20T20:39:01.915076Z"
    }
   },
   "cell_type": "code",
   "source": "X2 = enc2.fit_transform(X[:,1:])",
   "id": "b0f9313df87a290b",
   "outputs": [],
   "execution_count": 26
  },
  {
   "metadata": {
    "ExecuteTime": {
     "end_time": "2025-10-20T21:04:31.548488Z",
     "start_time": "2025-10-20T21:04:31.539942Z"
    }
   },
   "cell_type": "code",
   "source": [
    "X3 =[np.append(X1[x], X2[x]) for x in range(0, len(X1))]\n",
    "X3\n"
   ],
   "id": "ec1abd89ec62db70",
   "outputs": [
    {
     "data": {
      "text/plain": [
       "[array([1., 0., 0., 2.]),\n",
       " array([0., 1., 0., 0.]),\n",
       " array([0., 0., 1., 1.]),\n",
       " array([1., 0., 0., 0.])]"
      ]
     },
     "execution_count": 56,
     "metadata": {},
     "output_type": "execute_result"
    }
   ],
   "execution_count": 56
  },
  {
   "metadata": {},
   "cell_type": "markdown",
   "source": "Usando Column Transformer\n",
   "id": "6ddcf4280322513d"
  },
  {
   "metadata": {
    "ExecuteTime": {
     "end_time": "2025-10-20T20:57:37.526916Z",
     "start_time": "2025-10-20T20:57:37.521936Z"
    }
   },
   "cell_type": "code",
   "source": [
    "encoder = ColumnTransformer([\n",
    "    ('first_column', OneHotEncoder(),[0]),\n",
    "    ('second_column', OrdinalEncoder(categories=[['Low', 'Medium', 'High']]), [1])\n",
    "])"
   ],
   "id": "55e63925d106ef41",
   "outputs": [],
   "execution_count": 47
  },
  {
   "metadata": {
    "ExecuteTime": {
     "end_time": "2025-10-20T20:57:54.519750Z",
     "start_time": "2025-10-20T20:57:54.505776Z"
    }
   },
   "cell_type": "code",
   "source": "encoder.fit_transform(X)",
   "id": "3b8e3ec54586f3d3",
   "outputs": [
    {
     "data": {
      "text/plain": [
       "array([[1., 0., 0., 2.],\n",
       "       [0., 1., 0., 0.],\n",
       "       [0., 0., 1., 1.],\n",
       "       [1., 0., 0., 0.]])"
      ]
     },
     "execution_count": 48,
     "metadata": {},
     "output_type": "execute_result"
    }
   ],
   "execution_count": 48
  },
  {
   "metadata": {},
   "cell_type": "markdown",
   "source": "Exercise 2\n",
   "id": "e05d31c559e71ddc"
  },
  {
   "metadata": {
    "ExecuteTime": {
     "end_time": "2025-10-20T21:04:33.064359Z",
     "start_time": "2025-10-20T21:04:33.058697Z"
    }
   },
   "cell_type": "code",
   "source": [
    "encoder = ColumnTransformer([\n",
    "    ('fist_column', OneHotEncoder(categories=[['X', 'Y', 'Z', 'W']]),[0]),\n",
    "    ('second_column', OrdinalEncoder(categories=[['Low', 'Medium', 'High', 'Very high']]), [1])\n",
    "])"
   ],
   "id": "548a893bdfe153d7",
   "outputs": [],
   "execution_count": 57
  },
  {
   "metadata": {
    "ExecuteTime": {
     "end_time": "2025-10-20T21:04:36.806647Z",
     "start_time": "2025-10-20T21:04:36.796179Z"
    }
   },
   "cell_type": "code",
   "source": "encoder.fit_transform(X)\n",
   "id": "c535375e51a22150",
   "outputs": [
    {
     "data": {
      "text/plain": [
       "array([[1., 0., 0., 0., 2.],\n",
       "       [0., 1., 0., 0., 0.],\n",
       "       [0., 0., 1., 0., 1.],\n",
       "       [1., 0., 0., 0., 0.]])"
      ]
     },
     "execution_count": 58,
     "metadata": {},
     "output_type": "execute_result"
    }
   ],
   "execution_count": 58
  },
  {
   "metadata": {
    "ExecuteTime": {
     "end_time": "2025-10-20T21:04:38.780547Z",
     "start_time": "2025-10-20T21:04:38.772174Z"
    }
   },
   "cell_type": "code",
   "source": [
    "Y = [['W', 'Very high']]\n",
    "encoder.transform(Y)"
   ],
   "id": "a26c9037321ac3fc",
   "outputs": [
    {
     "data": {
      "text/plain": [
       "array([[0., 0., 0., 1., 3.]])"
      ]
     },
     "execution_count": 59,
     "metadata": {},
     "output_type": "execute_result"
    }
   ],
   "execution_count": 59
  }
 ],
 "metadata": {
  "kernelspec": {
   "display_name": "Python 3",
   "language": "python",
   "name": "python3"
  },
  "language_info": {
   "codemirror_mode": {
    "name": "ipython",
    "version": 2
   },
   "file_extension": ".py",
   "mimetype": "text/x-python",
   "name": "python",
   "nbconvert_exporter": "python",
   "pygments_lexer": "ipython2",
   "version": "2.7.6"
  }
 },
 "nbformat": 4,
 "nbformat_minor": 5
}
