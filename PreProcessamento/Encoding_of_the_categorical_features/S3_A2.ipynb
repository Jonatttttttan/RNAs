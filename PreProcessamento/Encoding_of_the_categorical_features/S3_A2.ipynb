{
 "cells": [
  {
   "cell_type": "code",
   "id": "initial_id",
   "metadata": {
    "collapsed": true,
    "ExecuteTime": {
     "end_time": "2025-10-20T04:59:59.462605Z",
     "start_time": "2025-10-20T04:59:39.382444Z"
    }
   },
   "source": [
    "import numpy as np\n",
    "from sklearn.preprocessing import OneHotEncoder\n"
   ],
   "outputs": [],
   "execution_count": 4
  },
  {
   "metadata": {
    "ExecuteTime": {
     "end_time": "2025-10-20T04:59:22.554702Z",
     "start_time": "2025-10-20T04:59:22.529749Z"
    }
   },
   "cell_type": "code",
   "source": [
    "X = np.array([['A'],['A'], ['B'], ['C']])\n",
    "X"
   ],
   "id": "88337364d702a506",
   "outputs": [
    {
     "data": {
      "text/plain": [
       "array([['A'],\n",
       "       ['A'],\n",
       "       ['B'],\n",
       "       ['C']], dtype='<U1')"
      ]
     },
     "execution_count": 3,
     "metadata": {},
     "output_type": "execute_result"
    }
   ],
   "execution_count": 3
  },
  {
   "metadata": {
    "ExecuteTime": {
     "end_time": "2025-10-20T05:00:14.833709Z",
     "start_time": "2025-10-20T05:00:14.830450Z"
    }
   },
   "cell_type": "code",
   "source": "enc = OneHotEncoder()",
   "id": "bdedd1dad54457cc",
   "outputs": [],
   "execution_count": 5
  },
  {
   "metadata": {
    "ExecuteTime": {
     "end_time": "2025-10-20T05:00:45.593313Z",
     "start_time": "2025-10-20T05:00:45.586314Z"
    }
   },
   "cell_type": "code",
   "source": "enc.fit_transform(X).todense() # Mudança de dimensão",
   "id": "8a58246829e3c6be",
   "outputs": [
    {
     "data": {
      "text/plain": [
       "matrix([[1., 0., 0.],\n",
       "        [1., 0., 0.],\n",
       "        [0., 1., 0.],\n",
       "        [0., 0., 1.]])"
      ]
     },
     "execution_count": 7,
     "metadata": {},
     "output_type": "execute_result"
    }
   ],
   "execution_count": 7
  },
  {
   "metadata": {},
   "cell_type": "markdown",
   "source": "Output with dense matrix",
   "id": "9ec24c4d150edb2b"
  },
  {
   "metadata": {
    "ExecuteTime": {
     "end_time": "2025-10-20T05:05:25.925103Z",
     "start_time": "2025-10-20T05:05:25.916319Z"
    }
   },
   "cell_type": "code",
   "source": [
    "enc = OneHotEncoder(sparse_output=False)\n",
    "enc.fit_transform(X)"
   ],
   "id": "9e6331de596b0588",
   "outputs": [
    {
     "data": {
      "text/plain": [
       "array([[1., 0., 0.],\n",
       "       [1., 0., 0.],\n",
       "       [0., 1., 0.],\n",
       "       [0., 0., 1.]])"
      ]
     },
     "execution_count": 9,
     "metadata": {},
     "output_type": "execute_result"
    }
   ],
   "execution_count": 9
  },
  {
   "metadata": {},
   "cell_type": "markdown",
   "source": "Removing one dummy variable",
   "id": "3291c38419238951"
  },
  {
   "metadata": {
    "ExecuteTime": {
     "end_time": "2025-10-20T05:06:47.125991Z",
     "start_time": "2025-10-20T05:06:47.119360Z"
    }
   },
   "cell_type": "code",
   "source": [
    "enc = OneHotEncoder(sparse_output=False, drop='first')\n",
    "enc.fit_transform(X)"
   ],
   "id": "25de6aa3176b5e8a",
   "outputs": [
    {
     "data": {
      "text/plain": [
       "array([[0., 0.],\n",
       "       [0., 0.],\n",
       "       [1., 0.],\n",
       "       [0., 1.]])"
      ]
     },
     "execution_count": 10,
     "metadata": {},
     "output_type": "execute_result"
    }
   ],
   "execution_count": 10
  },
  {
   "metadata": {},
   "cell_type": "markdown",
   "source": "Removing one dummy variable from binary features",
   "id": "b2823d30ac0ad3bc"
  },
  {
   "metadata": {
    "ExecuteTime": {
     "end_time": "2025-10-20T05:07:47.397687Z",
     "start_time": "2025-10-20T05:07:47.392367Z"
    }
   },
   "cell_type": "code",
   "source": [
    "X = np.array([['A'],['A'], ['A'], ['C']])\n",
    "X"
   ],
   "id": "fdf32abb1b57531",
   "outputs": [
    {
     "data": {
      "text/plain": [
       "array([['A'],\n",
       "       ['A'],\n",
       "       ['A'],\n",
       "       ['C']], dtype='<U1')"
      ]
     },
     "execution_count": 11,
     "metadata": {},
     "output_type": "execute_result"
    }
   ],
   "execution_count": 11
  },
  {
   "metadata": {
    "ExecuteTime": {
     "end_time": "2025-10-20T05:09:52.883297Z",
     "start_time": "2025-10-20T05:09:52.872985Z"
    }
   },
   "cell_type": "code",
   "source": [
    "enc = OneHotEncoder(sparse_output=False, drop='if_binary')\n",
    "enc.fit_transform(X)"
   ],
   "id": "f561c89fdb6269d9",
   "outputs": [
    {
     "data": {
      "text/plain": [
       "array([[0.],\n",
       "       [0.],\n",
       "       [0.],\n",
       "       [1.]])"
      ]
     },
     "execution_count": 16,
     "metadata": {},
     "output_type": "execute_result"
    }
   ],
   "execution_count": 16
  },
  {
   "metadata": {},
   "cell_type": "markdown",
   "source": "Error handling",
   "id": "31d00555b5704284"
  },
  {
   "metadata": {},
   "cell_type": "code",
   "outputs": [],
   "execution_count": null,
   "source": "",
   "id": "fa58d99820ea25ae"
  }
 ],
 "metadata": {
  "kernelspec": {
   "display_name": "Python 3",
   "language": "python",
   "name": "python3"
  },
  "language_info": {
   "codemirror_mode": {
    "name": "ipython",
    "version": 2
   },
   "file_extension": ".py",
   "mimetype": "text/x-python",
   "name": "python",
   "nbconvert_exporter": "python",
   "pygments_lexer": "ipython2",
   "version": "2.7.6"
  }
 },
 "nbformat": 4,
 "nbformat_minor": 5
}
