{
 "cells": [
  {
   "metadata": {
    "ExecuteTime": {
     "end_time": "2025-10-21T02:09:52.691574Z",
     "start_time": "2025-10-21T02:09:39.286024Z"
    }
   },
   "cell_type": "code",
   "source": [
    "from sklearn.preprocessing import PowerTransformer\n",
    "import matplotlib.pyplot as plt\n",
    "import pandas as pd"
   ],
   "id": "7fa9931d42a01c37",
   "outputs": [],
   "execution_count": 2
  },
  {
   "metadata": {
    "collapsed": true
   },
   "cell_type": "markdown",
   "source": "",
   "id": "15e4b0a63e74e42a"
  },
  {
   "metadata": {
    "ExecuteTime": {
     "end_time": "2025-10-21T02:11:29.473085Z",
     "start_time": "2025-10-21T02:11:29.435482Z"
    }
   },
   "cell_type": "code",
   "source": [
    "df = pd.read_csv(\"C:\\\\Users\\\\Nitro\\\\Desktop\\\\Inteligencia_Artificial\\\\PreProcessamento_Udemy\\\\sample_dataset.csv\").iloc[:, 0:5].dropna()\n",
    "df"
   ],
   "id": "665d0d76cd8d48f2",
   "outputs": [
    {
     "data": {
      "text/plain": [
       "     mean radius  mean texture  mean perimeter  mean area  mean smoothness\n",
       "2          19.69         21.25          130.00     1203.0          0.10960\n",
       "3          11.42         20.38           77.58      386.1          0.14250\n",
       "8          13.00         21.82           87.50      519.8          0.12730\n",
       "13         15.85         23.95          103.70      782.7          0.08401\n",
       "14         13.73         22.61           93.60      578.3          0.11310\n",
       "..           ...           ...             ...        ...              ...\n",
       "549        10.82         24.21           68.89      361.6          0.08192\n",
       "550        10.86         21.48           68.51      360.5          0.07431\n",
       "560        14.05         27.15           91.38      600.4          0.09929\n",
       "564        21.56         22.39          142.00     1479.0          0.11100\n",
       "567        20.60         29.33          140.10     1265.0          0.11780\n",
       "\n",
       "[176 rows x 5 columns]"
      ],
      "text/html": [
       "<div>\n",
       "<style scoped>\n",
       "    .dataframe tbody tr th:only-of-type {\n",
       "        vertical-align: middle;\n",
       "    }\n",
       "\n",
       "    .dataframe tbody tr th {\n",
       "        vertical-align: top;\n",
       "    }\n",
       "\n",
       "    .dataframe thead th {\n",
       "        text-align: right;\n",
       "    }\n",
       "</style>\n",
       "<table border=\"1\" class=\"dataframe\">\n",
       "  <thead>\n",
       "    <tr style=\"text-align: right;\">\n",
       "      <th></th>\n",
       "      <th>mean radius</th>\n",
       "      <th>mean texture</th>\n",
       "      <th>mean perimeter</th>\n",
       "      <th>mean area</th>\n",
       "      <th>mean smoothness</th>\n",
       "    </tr>\n",
       "  </thead>\n",
       "  <tbody>\n",
       "    <tr>\n",
       "      <th>2</th>\n",
       "      <td>19.69</td>\n",
       "      <td>21.25</td>\n",
       "      <td>130.00</td>\n",
       "      <td>1203.0</td>\n",
       "      <td>0.10960</td>\n",
       "    </tr>\n",
       "    <tr>\n",
       "      <th>3</th>\n",
       "      <td>11.42</td>\n",
       "      <td>20.38</td>\n",
       "      <td>77.58</td>\n",
       "      <td>386.1</td>\n",
       "      <td>0.14250</td>\n",
       "    </tr>\n",
       "    <tr>\n",
       "      <th>8</th>\n",
       "      <td>13.00</td>\n",
       "      <td>21.82</td>\n",
       "      <td>87.50</td>\n",
       "      <td>519.8</td>\n",
       "      <td>0.12730</td>\n",
       "    </tr>\n",
       "    <tr>\n",
       "      <th>13</th>\n",
       "      <td>15.85</td>\n",
       "      <td>23.95</td>\n",
       "      <td>103.70</td>\n",
       "      <td>782.7</td>\n",
       "      <td>0.08401</td>\n",
       "    </tr>\n",
       "    <tr>\n",
       "      <th>14</th>\n",
       "      <td>13.73</td>\n",
       "      <td>22.61</td>\n",
       "      <td>93.60</td>\n",
       "      <td>578.3</td>\n",
       "      <td>0.11310</td>\n",
       "    </tr>\n",
       "    <tr>\n",
       "      <th>...</th>\n",
       "      <td>...</td>\n",
       "      <td>...</td>\n",
       "      <td>...</td>\n",
       "      <td>...</td>\n",
       "      <td>...</td>\n",
       "    </tr>\n",
       "    <tr>\n",
       "      <th>549</th>\n",
       "      <td>10.82</td>\n",
       "      <td>24.21</td>\n",
       "      <td>68.89</td>\n",
       "      <td>361.6</td>\n",
       "      <td>0.08192</td>\n",
       "    </tr>\n",
       "    <tr>\n",
       "      <th>550</th>\n",
       "      <td>10.86</td>\n",
       "      <td>21.48</td>\n",
       "      <td>68.51</td>\n",
       "      <td>360.5</td>\n",
       "      <td>0.07431</td>\n",
       "    </tr>\n",
       "    <tr>\n",
       "      <th>560</th>\n",
       "      <td>14.05</td>\n",
       "      <td>27.15</td>\n",
       "      <td>91.38</td>\n",
       "      <td>600.4</td>\n",
       "      <td>0.09929</td>\n",
       "    </tr>\n",
       "    <tr>\n",
       "      <th>564</th>\n",
       "      <td>21.56</td>\n",
       "      <td>22.39</td>\n",
       "      <td>142.00</td>\n",
       "      <td>1479.0</td>\n",
       "      <td>0.11100</td>\n",
       "    </tr>\n",
       "    <tr>\n",
       "      <th>567</th>\n",
       "      <td>20.60</td>\n",
       "      <td>29.33</td>\n",
       "      <td>140.10</td>\n",
       "      <td>1265.0</td>\n",
       "      <td>0.11780</td>\n",
       "    </tr>\n",
       "  </tbody>\n",
       "</table>\n",
       "<p>176 rows × 5 columns</p>\n",
       "</div>"
      ]
     },
     "execution_count": 4,
     "metadata": {},
     "output_type": "execute_result"
    }
   ],
   "execution_count": 4
  },
  {
   "metadata": {
    "ExecuteTime": {
     "end_time": "2025-10-21T02:11:53.549875Z",
     "start_time": "2025-10-21T02:11:53.335364Z"
    }
   },
   "cell_type": "code",
   "source": "df['mean radius'].hist()",
   "id": "acdbd72e97645f2f",
   "outputs": [
    {
     "data": {
      "text/plain": [
       "<Axes: >"
      ]
     },
     "execution_count": 5,
     "metadata": {},
     "output_type": "execute_result"
    },
    {
     "data": {
      "text/plain": [
       "<Figure size 640x480 with 1 Axes>"
      ],
      "image/png": "[encoded data removed]"
     },
     "metadata": {},
     "output_type": "display_data"
    }
   ],
   "execution_count": 5
  },
  {
   "metadata": {},
   "cell_type": "markdown",
   "source": "Yeo Jhonson power transform",
   "id": "5206b689ed201aa6"
  },
  {
   "metadata": {
    "ExecuteTime": {
     "end_time": "2025-10-21T02:13:06.274097Z",
     "start_time": "2025-10-21T02:13:06.268119Z"
    }
   },
   "cell_type": "code",
   "source": "power = PowerTransformer()",
   "id": "137f2353f4431975",
   "outputs": [],
   "execution_count": 6
  },
  {
   "metadata": {
    "ExecuteTime": {
     "end_time": "2025-10-21T02:13:18.213343Z",
     "start_time": "2025-10-21T02:13:18.195025Z"
    }
   },
   "cell_type": "code",
   "source": "t = power.fit_transform(df)",
   "id": "9557fc54fb28a6db",
   "outputs": [],
   "execution_count": 8
  },
  {
   "metadata": {
    "ExecuteTime": {
     "end_time": "2025-10-21T02:13:51.997168Z",
     "start_time": "2025-10-21T02:13:51.890297Z"
    }
   },
   "cell_type": "code",
   "source": "plt.hist(t[:, 0])",
   "id": "a1f70f84908e93ed",
   "outputs": [
    {
     "data": {
      "text/plain": [
       "(array([ 4.,  7., 13., 34., 39., 22., 20., 27.,  9.,  1.]),\n",
       " array([-2.54501001, -2.03906971, -1.53312942, -1.02718912, -0.52124882,\n",
       "        -0.01530853,  0.49063177,  0.99657206,  1.50251236,  2.00845265,\n",
       "         2.51439295]),\n",
       " <BarContainer object of 10 artists>)"
      ]
     },
     "execution_count": 9,
     "metadata": {},
     "output_type": "execute_result"
    },
    {
     "data": {
      "text/plain": [
       "<Figure size 640x480 with 1 Axes>"
      ],
      "image/png": "[encoded data removed]"
     },
     "metadata": {},
     "output_type": "display_data"
    }
   ],
   "execution_count": 9
  },
  {
   "metadata": {},
   "cell_type": "markdown",
   "source": "With no standarlization",
   "id": "7dbf64cfde4045cd"
  },
  {
   "metadata": {
    "ExecuteTime": {
     "end_time": "2025-10-21T02:16:00.357847Z",
     "start_time": "2025-10-21T02:16:00.249136Z"
    }
   },
   "cell_type": "code",
   "source": [
    "power = PowerTransformer('yeo-johnson', standardize=False)\n",
    "t = power.fit_transform(df)\n",
    "plt.hist(t[:, 0])"
   ],
   "id": "c66c87e313ab359",
   "outputs": [
    {
     "data": {
      "text/plain": [
       "(array([ 4.,  7., 13., 34., 39., 22., 20., 27.,  9.,  1.]),\n",
       " array([1.1540249 , 1.17204749, 1.19007008, 1.20809268, 1.22611527,\n",
       "        1.24413787, 1.26216046, 1.28018305, 1.29820565, 1.31622824,\n",
       "        1.33425084]),\n",
       " <BarContainer object of 10 artists>)"
      ]
     },
     "execution_count": 11,
     "metadata": {},
     "output_type": "execute_result"
    },
    {
     "data": {
      "text/plain": [
       "<Figure size 640x480 with 1 Axes>"
      ],
      "image/png": "[encoded data removed]"
     },
     "metadata": {},
     "output_type": "display_data"
    }
   ],
   "execution_count": 11
  },
  {
   "metadata": {},
   "cell_type": "markdown",
   "source": [
    "Box-cox transformation\n",
    "Only with positive features"
   ],
   "id": "8f349f433c8c26b2"
  },
  {
   "metadata": {
    "ExecuteTime": {
     "end_time": "2025-10-21T02:17:45.620734Z",
     "start_time": "2025-10-21T02:17:45.452969Z"
    }
   },
   "cell_type": "code",
   "source": [
    "power = PowerTransformer('box-cox')\n",
    "t = power.fit_transform(df)\n",
    "plt.hist(t[:, 0])"
   ],
   "id": "c80e6f5713b5f848",
   "outputs": [
    {
     "data": {
      "text/plain": [
       "(array([ 4.,  7., 12., 34., 40., 22., 20., 28.,  8.,  1.]),\n",
       " array([-2.55704079, -2.04914826, -1.54125573, -1.0333632 , -0.52547066,\n",
       "        -0.01757813,  0.4903144 ,  0.99820693,  1.50609946,  2.013992  ,\n",
       "         2.52188453]),\n",
       " <BarContainer object of 10 artists>)"
      ]
     },
     "execution_count": 12,
     "metadata": {},
     "output_type": "execute_result"
    },
    {
     "data": {
      "text/plain": [
       "<Figure size 640x480 with 1 Axes>"
      ],
      "image/png": "[encoded data removed]"
     },
     "metadata": {},
     "output_type": "display_data"
    }
   ],
   "execution_count": 12
  },
  {
   "metadata": {
    "ExecuteTime": {
     "end_time": "2025-10-21T02:18:46.584655Z",
     "start_time": "2025-10-21T02:18:46.475143Z"
    }
   },
   "cell_type": "code",
   "source": "df['mean texture'].hist()",
   "id": "d209cdf815bd8447",
   "outputs": [
    {
     "data": {
      "text/plain": [
       "<Axes: >"
      ]
     },
     "execution_count": 13,
     "metadata": {},
     "output_type": "execute_result"
    },
    {
     "data": {
      "text/plain": [
       "<Figure size 640x480 with 1 Axes>"
      ],
      "image/png": "[encoded data removed]"
     },
     "metadata": {},
     "output_type": "display_data"
    }
   ],
   "execution_count": 13
  }
 ],
 "metadata": {
  "kernelspec": {
   "display_name": "Python 3",
   "language": "python",
   "name": "python3"
  },
  "language_info": {
   "codemirror_mode": {
    "name": "ipython",
    "version": 2
   },
   "file_extension": ".py",
   "mimetype": "text/x-python",
   "name": "python",
   "nbconvert_exporter": "python",
   "pygments_lexer": "ipython2",
   "version": "2.7.6"
  }
 },
 "nbformat": 4,
 "nbformat_minor": 5
}
