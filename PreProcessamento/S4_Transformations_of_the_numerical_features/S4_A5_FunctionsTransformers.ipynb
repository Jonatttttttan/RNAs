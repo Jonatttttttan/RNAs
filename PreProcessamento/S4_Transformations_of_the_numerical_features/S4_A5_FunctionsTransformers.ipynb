{
 "cells": [
  {
   "cell_type": "code",
   "id": "initial_id",
   "metadata": {
    "collapsed": true,
    "ExecuteTime": {
     "end_time": "2025-10-21T02:45:20.232165Z",
     "start_time": "2025-10-21T02:45:18.982346Z"
    }
   },
   "source": [
    "from sklearn.preprocessing import FunctionTransformer\n",
    "import pandas as pd\n",
    "import numpy as np"
   ],
   "outputs": [],
   "execution_count": 1
  },
  {
   "metadata": {
    "ExecuteTime": {
     "end_time": "2025-10-21T02:53:31.519299Z",
     "start_time": "2025-10-21T02:53:31.493102Z"
    }
   },
   "cell_type": "code",
   "source": [
    "df = pd.read_csv(\"C:\\\\Users\\\\Nitro\\\\Desktop\\\\Inteligencia_Artificial\\\\PreProcessamento_Udemy\\\\sample_dataset.csv\").iloc[:, 0:3].dropna()\n",
    "df"
   ],
   "id": "3da768369fe25f66",
   "outputs": [
    {
     "data": {
      "text/plain": [
       "     mean radius  mean texture  mean perimeter\n",
       "1          20.57         17.77          132.90\n",
       "2          19.69         21.25          130.00\n",
       "3          11.42         20.38           77.58\n",
       "5          12.45         15.70           82.57\n",
       "7          13.71         20.83           90.20\n",
       "..           ...           ...             ...\n",
       "562        15.22         30.62          103.40\n",
       "563        20.92         25.09          143.00\n",
       "564        21.56         22.39          142.00\n",
       "566        16.60         28.08          108.30\n",
       "567        20.60         29.33          140.10\n",
       "\n",
       "[385 rows x 3 columns]"
      ],
      "text/html": [
       "<div>\n",
       "<style scoped>\n",
       "    .dataframe tbody tr th:only-of-type {\n",
       "        vertical-align: middle;\n",
       "    }\n",
       "\n",
       "    .dataframe tbody tr th {\n",
       "        vertical-align: top;\n",
       "    }\n",
       "\n",
       "    .dataframe thead th {\n",
       "        text-align: right;\n",
       "    }\n",
       "</style>\n",
       "<table border=\"1\" class=\"dataframe\">\n",
       "  <thead>\n",
       "    <tr style=\"text-align: right;\">\n",
       "      <th></th>\n",
       "      <th>mean radius</th>\n",
       "      <th>mean texture</th>\n",
       "      <th>mean perimeter</th>\n",
       "    </tr>\n",
       "  </thead>\n",
       "  <tbody>\n",
       "    <tr>\n",
       "      <th>1</th>\n",
       "      <td>20.57</td>\n",
       "      <td>17.77</td>\n",
       "      <td>132.90</td>\n",
       "    </tr>\n",
       "    <tr>\n",
       "      <th>2</th>\n",
       "      <td>19.69</td>\n",
       "      <td>21.25</td>\n",
       "      <td>130.00</td>\n",
       "    </tr>\n",
       "    <tr>\n",
       "      <th>3</th>\n",
       "      <td>11.42</td>\n",
       "      <td>20.38</td>\n",
       "      <td>77.58</td>\n",
       "    </tr>\n",
       "    <tr>\n",
       "      <th>5</th>\n",
       "      <td>12.45</td>\n",
       "      <td>15.70</td>\n",
       "      <td>82.57</td>\n",
       "    </tr>\n",
       "    <tr>\n",
       "      <th>7</th>\n",
       "      <td>13.71</td>\n",
       "      <td>20.83</td>\n",
       "      <td>90.20</td>\n",
       "    </tr>\n",
       "    <tr>\n",
       "      <th>...</th>\n",
       "      <td>...</td>\n",
       "      <td>...</td>\n",
       "      <td>...</td>\n",
       "    </tr>\n",
       "    <tr>\n",
       "      <th>562</th>\n",
       "      <td>15.22</td>\n",
       "      <td>30.62</td>\n",
       "      <td>103.40</td>\n",
       "    </tr>\n",
       "    <tr>\n",
       "      <th>563</th>\n",
       "      <td>20.92</td>\n",
       "      <td>25.09</td>\n",
       "      <td>143.00</td>\n",
       "    </tr>\n",
       "    <tr>\n",
       "      <th>564</th>\n",
       "      <td>21.56</td>\n",
       "      <td>22.39</td>\n",
       "      <td>142.00</td>\n",
       "    </tr>\n",
       "    <tr>\n",
       "      <th>566</th>\n",
       "      <td>16.60</td>\n",
       "      <td>28.08</td>\n",
       "      <td>108.30</td>\n",
       "    </tr>\n",
       "    <tr>\n",
       "      <th>567</th>\n",
       "      <td>20.60</td>\n",
       "      <td>29.33</td>\n",
       "      <td>140.10</td>\n",
       "    </tr>\n",
       "  </tbody>\n",
       "</table>\n",
       "<p>385 rows × 3 columns</p>\n",
       "</div>"
      ]
     },
     "execution_count": 15,
     "metadata": {},
     "output_type": "execute_result"
    }
   ],
   "execution_count": 15
  },
  {
   "metadata": {
    "ExecuteTime": {
     "end_time": "2025-10-21T02:53:45.046151Z",
     "start_time": "2025-10-21T02:53:45.024499Z"
    }
   },
   "cell_type": "code",
   "source": [
    "transformer = FunctionTransformer(np.log)\n",
    "transformer.fit_transform(df)"
   ],
   "id": "927203bbf2bc243a",
   "outputs": [
    {
     "data": {
      "text/plain": [
       "     mean radius  mean texture  mean perimeter\n",
       "1       3.023834      2.877512        4.889597\n",
       "2       2.980111      3.056357        4.867534\n",
       "3       2.435366      3.014554        4.351310\n",
       "5       2.521721      2.753661        4.413646\n",
       "7       2.618125      3.036394        4.502029\n",
       "..           ...           ...             ...\n",
       "562     2.722610      3.421653        4.638605\n",
       "563     3.040706      3.222469        4.962845\n",
       "564     3.070840      3.108614        4.955827\n",
       "566     2.809403      3.335058        4.684905\n",
       "567     3.025291      3.378611        4.942356\n",
       "\n",
       "[385 rows x 3 columns]"
      ],
      "text/html": [
       "<div>\n",
       "<style scoped>\n",
       "    .dataframe tbody tr th:only-of-type {\n",
       "        vertical-align: middle;\n",
       "    }\n",
       "\n",
       "    .dataframe tbody tr th {\n",
       "        vertical-align: top;\n",
       "    }\n",
       "\n",
       "    .dataframe thead th {\n",
       "        text-align: right;\n",
       "    }\n",
       "</style>\n",
       "<table border=\"1\" class=\"dataframe\">\n",
       "  <thead>\n",
       "    <tr style=\"text-align: right;\">\n",
       "      <th></th>\n",
       "      <th>mean radius</th>\n",
       "      <th>mean texture</th>\n",
       "      <th>mean perimeter</th>\n",
       "    </tr>\n",
       "  </thead>\n",
       "  <tbody>\n",
       "    <tr>\n",
       "      <th>1</th>\n",
       "      <td>3.023834</td>\n",
       "      <td>2.877512</td>\n",
       "      <td>4.889597</td>\n",
       "    </tr>\n",
       "    <tr>\n",
       "      <th>2</th>\n",
       "      <td>2.980111</td>\n",
       "      <td>3.056357</td>\n",
       "      <td>4.867534</td>\n",
       "    </tr>\n",
       "    <tr>\n",
       "      <th>3</th>\n",
       "      <td>2.435366</td>\n",
       "      <td>3.014554</td>\n",
       "      <td>4.351310</td>\n",
       "    </tr>\n",
       "    <tr>\n",
       "      <th>5</th>\n",
       "      <td>2.521721</td>\n",
       "      <td>2.753661</td>\n",
       "      <td>4.413646</td>\n",
       "    </tr>\n",
       "    <tr>\n",
       "      <th>7</th>\n",
       "      <td>2.618125</td>\n",
       "      <td>3.036394</td>\n",
       "      <td>4.502029</td>\n",
       "    </tr>\n",
       "    <tr>\n",
       "      <th>...</th>\n",
       "      <td>...</td>\n",
       "      <td>...</td>\n",
       "      <td>...</td>\n",
       "    </tr>\n",
       "    <tr>\n",
       "      <th>562</th>\n",
       "      <td>2.722610</td>\n",
       "      <td>3.421653</td>\n",
       "      <td>4.638605</td>\n",
       "    </tr>\n",
       "    <tr>\n",
       "      <th>563</th>\n",
       "      <td>3.040706</td>\n",
       "      <td>3.222469</td>\n",
       "      <td>4.962845</td>\n",
       "    </tr>\n",
       "    <tr>\n",
       "      <th>564</th>\n",
       "      <td>3.070840</td>\n",
       "      <td>3.108614</td>\n",
       "      <td>4.955827</td>\n",
       "    </tr>\n",
       "    <tr>\n",
       "      <th>566</th>\n",
       "      <td>2.809403</td>\n",
       "      <td>3.335058</td>\n",
       "      <td>4.684905</td>\n",
       "    </tr>\n",
       "    <tr>\n",
       "      <th>567</th>\n",
       "      <td>3.025291</td>\n",
       "      <td>3.378611</td>\n",
       "      <td>4.942356</td>\n",
       "    </tr>\n",
       "  </tbody>\n",
       "</table>\n",
       "<p>385 rows × 3 columns</p>\n",
       "</div>"
      ]
     },
     "execution_count": 16,
     "metadata": {},
     "output_type": "execute_result"
    }
   ],
   "execution_count": 16
  },
  {
   "metadata": {},
   "cell_type": "markdown",
   "source": "",
   "id": "454260996a96e9bd"
  },
  {
   "metadata": {
    "ExecuteTime": {
     "end_time": "2025-10-21T02:53:48.713448Z",
     "start_time": "2025-10-21T02:53:48.700876Z"
    }
   },
   "cell_type": "code",
   "source": [
    "transformer = FunctionTransformer(lambda x : x*3, validate = True)\n",
    "transformer.fit_transform(df)"
   ],
   "id": "321d51f1e4f0c980",
   "outputs": [
    {
     "data": {
      "text/plain": [
       "array([[ 61.71,  53.31, 398.7 ],\n",
       "       [ 59.07,  63.75, 390.  ],\n",
       "       [ 34.26,  61.14, 232.74],\n",
       "       ...,\n",
       "       [ 64.68,  67.17, 426.  ],\n",
       "       [ 49.8 ,  84.24, 324.9 ],\n",
       "       [ 61.8 ,  87.99, 420.3 ]], shape=(385, 3))"
      ]
     },
     "execution_count": 17,
     "metadata": {},
     "output_type": "execute_result"
    }
   ],
   "execution_count": 17
  },
  {
   "metadata": {},
   "cell_type": "markdown",
   "source": "",
   "id": "2c0a3085de6cd2f1"
  },
  {
   "metadata": {
    "ExecuteTime": {
     "end_time": "2025-10-21T02:55:49.881048Z",
     "start_time": "2025-10-21T02:55:49.871672Z"
    }
   },
   "cell_type": "code",
   "source": [
    "transformer = FunctionTransformer(lambda x, a : x*a, validate = True, kw_args={'a':4})\n",
    "transformer.fit_transform(df)"
   ],
   "id": "43ae352c471e47f4",
   "outputs": [
    {
     "data": {
      "text/plain": [
       "array([[ 82.28,  71.08, 531.6 ],\n",
       "       [ 78.76,  85.  , 520.  ],\n",
       "       [ 45.68,  81.52, 310.32],\n",
       "       ...,\n",
       "       [ 86.24,  89.56, 568.  ],\n",
       "       [ 66.4 , 112.32, 433.2 ],\n",
       "       [ 82.4 , 117.32, 560.4 ]], shape=(385, 3))"
      ]
     },
     "execution_count": 19,
     "metadata": {},
     "output_type": "execute_result"
    }
   ],
   "execution_count": 19
  },
  {
   "metadata": {
    "ExecuteTime": {
     "end_time": "2025-10-21T02:57:51.807062Z",
     "start_time": "2025-10-21T02:57:51.794318Z"
    }
   },
   "cell_type": "code",
   "source": [
    "def f(x, a):\n",
    "    return x*a\n",
    "transformer = FunctionTransformer(f, validate = True, kw_args={'a':4}, accept_sparse=True)\n",
    "transformer.fit_transform(df)"
   ],
   "id": "cc7eea2c7b90a544",
   "outputs": [
    {
     "data": {
      "text/plain": [
       "array([[ 82.28,  71.08, 531.6 ],\n",
       "       [ 78.76,  85.  , 520.  ],\n",
       "       [ 45.68,  81.52, 310.32],\n",
       "       ...,\n",
       "       [ 86.24,  89.56, 568.  ],\n",
       "       [ 66.4 , 112.32, 433.2 ],\n",
       "       [ 82.4 , 117.32, 560.4 ]], shape=(385, 3))"
      ]
     },
     "execution_count": 22,
     "metadata": {},
     "output_type": "execute_result"
    }
   ],
   "execution_count": 22
  }
 ],
 "metadata": {
  "kernelspec": {
   "display_name": "Python 3",
   "language": "python",
   "name": "python3"
  },
  "language_info": {
   "codemirror_mode": {
    "name": "ipython",
    "version": 2
   },
   "file_extension": ".py",
   "mimetype": "text/x-python",
   "name": "python",
   "nbconvert_exporter": "python",
   "pygments_lexer": "ipython2",
   "version": "2.7.6"
  }
 },
 "nbformat": 4,
 "nbformat_minor": 5
}
