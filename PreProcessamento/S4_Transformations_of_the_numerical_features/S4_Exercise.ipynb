{
 "cells": [
  {
   "cell_type": "code",
   "id": "initial_id",
   "metadata": {
    "collapsed": true,
    "ExecuteTime": {
     "end_time": "2025-10-21T02:58:55.880867Z",
     "start_time": "2025-10-21T02:58:54.415891Z"
    }
   },
   "source": [
    "from sklearn.preprocessing import FunctionTransformer\n",
    "import pandas as pd\n",
    "import numpy as np"
   ],
   "outputs": [],
   "execution_count": 1
  },
  {
   "metadata": {
    "ExecuteTime": {
     "end_time": "2025-10-21T02:59:07.468445Z",
     "start_time": "2025-10-21T02:59:07.446307Z"
    }
   },
   "cell_type": "code",
   "source": "df = pd.read_csv(\"C:\\\\Users\\\\Nitro\\\\Desktop\\\\Inteligencia_Artificial\\\\PreProcessamento_Udemy\\\\sample_dataset.csv\").iloc[:, 0:3].dropna()\n",
   "id": "33b29ec923ede8b1",
   "outputs": [],
   "execution_count": 2
  }
 ],
 "metadata": {
  "kernelspec": {
   "display_name": "Python 3",
   "language": "python",
   "name": "python3"
  },
  "language_info": {
   "codemirror_mode": {
    "name": "ipython",
    "version": 2
   },
   "file_extension": ".py",
   "mimetype": "text/x-python",
   "name": "python",
   "nbconvert_exporter": "python",
   "pygments_lexer": "ipython2",
   "version": "2.7.6"
  }
 },
 "nbformat": 4,
 "nbformat_minor": 5
}
