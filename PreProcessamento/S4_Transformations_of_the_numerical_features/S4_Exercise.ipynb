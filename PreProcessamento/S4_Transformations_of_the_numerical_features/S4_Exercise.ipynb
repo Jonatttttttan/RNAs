{
 "cells": [
  {
   "cell_type": "code",
   "id": "initial_id",
   "metadata": {
    "collapsed": true,
    "ExecuteTime": {
     "end_time": "2025-10-23T02:11:35.297657Z",
     "start_time": "2025-10-23T02:11:35.291952Z"
    }
   },
   "source": [
    "from sklearn.preprocessing import  KBinsDiscretizer, Binarizer, PowerTransformer, FunctionTransformer\n",
    "import pandas as pd\n",
    "import numpy as np\n",
    "from sklearn.compose import ColumnTransformer"
   ],
   "outputs": [],
   "execution_count": 12
  },
  {
   "metadata": {
    "ExecuteTime": {
     "end_time": "2025-10-23T02:10:15.267258Z",
     "start_time": "2025-10-23T02:10:15.212896Z"
    }
   },
   "cell_type": "code",
   "source": "df = pd.read_csv(\"C:\\\\Users\\\\Nitro\\\\Desktop\\\\Inteligencia_Artificial\\\\PreProcessamento_Udemy\\\\sample_dataset.csv\").iloc[:, 0:3].dropna()\n",
   "id": "33b29ec923ede8b1",
   "outputs": [],
   "execution_count": 9
  },
  {
   "metadata": {
    "ExecuteTime": {
     "end_time": "2025-10-23T02:10:17.323410Z",
     "start_time": "2025-10-23T02:10:17.311475Z"
    }
   },
   "cell_type": "code",
   "source": [
    "m = df[\"mean radius\"].mean()\n",
    "transformer = ColumnTransformer([\n",
    "    ('mean_radius_transformer', Binarizer(threshold=m), ['mean radius']),\n",
    "    ('mean_texture_transforner', KBinsDiscretizer(strategy=\"uniform\", n_bins=10, encode='onehot-dense'), ['mean texture']),\n",
    "    ('mean_perimeter_transformer', KBinsDiscretizer(strategy='quantile', n_bins=5, encode='ordinal'), ['mean perimeter'])\n",
    "])"
   ],
   "id": "32c5230f532e5611",
   "outputs": [],
   "execution_count": 10
  },
  {
   "metadata": {
    "ExecuteTime": {
     "end_time": "2025-10-23T02:10:21.703454Z",
     "start_time": "2025-10-23T02:10:21.679826Z"
    }
   },
   "cell_type": "code",
   "source": "transformer.fit_transform(df)",
   "id": "cf00ab219eacbc52",
   "outputs": [
    {
     "name": "stderr",
     "output_type": "stream",
     "text": [
      "C:\\Users\\Nitro\\PyCharmMiscProject\\.venv\\Lib\\site-packages\\sklearn\\preprocessing\\_discretization.py:296: FutureWarning: The current default behavior, quantile_method='linear', will be changed to quantile_method='averaged_inverted_cdf' in scikit-learn version 1.9 to naturally support sample weight equivalence properties by default. Pass quantile_method='averaged_inverted_cdf' explicitly to silence this warning.\n",
      "  warnings.warn(\n"
     ]
    },
    {
     "data": {
      "text/plain": [
       "array([[1., 0., 0., ..., 0., 0., 4.],\n",
       "       [1., 0., 0., ..., 0., 0., 4.],\n",
       "       [0., 0., 0., ..., 0., 0., 1.],\n",
       "       ...,\n",
       "       [1., 0., 0., ..., 0., 0., 4.],\n",
       "       [1., 0., 0., ..., 0., 0., 3.],\n",
       "       [1., 0., 0., ..., 0., 0., 4.]], shape=(385, 12))"
      ]
     },
     "execution_count": 11,
     "metadata": {},
     "output_type": "execute_result"
    }
   ],
   "execution_count": 11
  },
  {
   "metadata": {},
   "cell_type": "markdown",
   "source": "Exercise 2",
   "id": "b7f48d0e6ff74110"
  },
  {
   "metadata": {
    "ExecuteTime": {
     "end_time": "2025-10-23T02:14:13.060826Z",
     "start_time": "2025-10-23T02:14:13.055198Z"
    }
   },
   "cell_type": "code",
   "source": [
    "transformer = ColumnTransformer([\n",
    "    ('mean_radius_transformer', PowerTransformer(), ['mean radius']),\n",
    "    ('mean_texture_transforner', PowerTransformer('box-cox'), ['mean texture']),\n",
    "    ('mean_perimeter_transformer', FunctionTransformer(np.log), ['mean perimeter']),\n",
    "])"
   ],
   "id": "d4138ea489a47e68",
   "outputs": [],
   "execution_count": 13
  },
  {
   "metadata": {
    "ExecuteTime": {
     "end_time": "2025-10-23T02:14:27.482617Z",
     "start_time": "2025-10-23T02:14:27.435147Z"
    }
   },
   "cell_type": "code",
   "source": "transformer.fit_transform(df)",
   "id": "7a16c3e6df0cd2db",
   "outputs": [
    {
     "data": {
      "text/plain": [
       "array([[ 1.63387526, -0.25875217,  4.88959697],\n",
       "       [ 1.48019619,  0.54975194,  4.86753445],\n",
       "       [-0.76778428,  0.36164666,  4.35130966],\n",
       "       ...,\n",
       "       [ 1.79501355,  0.78415652,  4.95582706],\n",
       "       [ 0.84387904,  1.79038802,  4.68490515],\n",
       "       [ 1.6389343 ,  1.98216691,  4.94235645]], shape=(385, 3))"
      ]
     },
     "execution_count": 14,
     "metadata": {},
     "output_type": "execute_result"
    }
   ],
   "execution_count": 14
  }
 ],
 "metadata": {
  "kernelspec": {
   "display_name": "Python 3",
   "language": "python",
   "name": "python3"
  },
  "language_info": {
   "codemirror_mode": {
    "name": "ipython",
    "version": 2
   },
   "file_extension": ".py",
   "mimetype": "text/x-python",
   "name": "python",
   "nbconvert_exporter": "python",
   "pygments_lexer": "ipython2",
   "version": "2.7.6"
  }
 },
 "nbformat": 4,
 "nbformat_minor": 5
}
